{
 "cells": [
  {
   "cell_type": "markdown",
   "id": "4da742b1-e596-4a61-8222-d8397d2dfcae",
   "metadata": {},
   "source": [
    "# Data Science Tools and Ecosystem"
   ]
  },
  {
   "cell_type": "markdown",
   "id": "72b2dd65-1d0a-41cd-8952-66e94d77e19a",
   "metadata": {},
   "source": [
    "### Some of the popular languages that Data Scientists use are:"
   ]
  },
  {
   "cell_type": "markdown",
   "id": "10600de5-138b-433d-ba1e-feb51240ad85",
   "metadata": {},
   "source": [
    "**Objectives:**"
   ]
  },
  {
   "cell_type": "markdown",
   "id": "2bd7dea7-a276-414c-a227-ac9f550cc7b7",
   "metadata": {},
   "source": [
    "- List popular languages for Data Science\n",
    "- List commonly used libraries for Data Science\n",
    "- Provide examples of arithmetic expressions. "
   ]
  },
  {
   "cell_type": "markdown",
   "id": "5528ec96-10e1-4de6-8d1b-4d7524da513b",
   "metadata": {},
   "source": [
    "## In this notebook, Data Science Tools and Ecosystem are summarized."
   ]
  },
  {
   "cell_type": "markdown",
   "id": "08eb446a-cdeb-4f27-9419-26ff7a7e0778",
   "metadata": {},
   "source": [
    "- R\n",
    "- Python\n",
    "- SQL\n",
    "- C++"
   ]
  },
  {
   "cell_type": "markdown",
   "id": "14c16068-4e41-420d-a761-c3501eb0e916",
   "metadata": {},
   "source": [
    "### Some of the commonly used libraries used by Data Scientists include:"
   ]
  },
  {
   "cell_type": "markdown",
   "id": "98620fdd-1a35-4071-9887-fa7933251576",
   "metadata": {},
   "source": [
    "- pandas\n",
    "- Matplotlib\n",
    "- TensorFlow\n",
    "- Scikit-learn"
   ]
  },
  {
   "cell_type": "markdown",
   "id": "10db5347-1b49-4f43-8c21-75e874a093ba",
   "metadata": {},
   "source": [
    "|Data Science Tools|\n",
    "|------------------|\n",
    "|Jupyter|\n",
    "|Apache Zeppelin|\n",
    "|RStudio|\n",
    "|Spyder|"
   ]
  },
  {
   "cell_type": "markdown",
   "id": "d986907c-7d0c-4297-8407-247a3afc3d0b",
   "metadata": {},
   "source": [
    "### Below are a few examples of evaluating arithmetic expressions in Python"
   ]
  },
  {
   "cell_type": "code",
   "execution_count": 51,
   "id": "cc45fe25-3c4b-4a82-a25d-f98e7419f973",
   "metadata": {},
   "outputs": [
    {
     "data": {
      "text/plain": [
       "17"
      ]
     },
     "execution_count": 51,
     "metadata": {},
     "output_type": "execute_result"
    }
   ],
   "source": [
    "(3*4)+5\n"
   ]
  },
  {
   "cell_type": "markdown",
   "id": "0947d6ea-1d55-46d7-8c65-cac113a644c4",
   "metadata": {},
   "source": [
    "This a simple arithmetic expression to mutiply then add integers"
   ]
  },
  {
   "cell_type": "markdown",
   "id": "bc7f33fd-ff4b-4711-9529-04400c9e4259",
   "metadata": {},
   "source": [
    "### This will convert 200 minutes to hours by diving by 60"
   ]
  },
  {
   "cell_type": "code",
   "execution_count": 66,
   "id": "f58b4648-9d33-47ee-98b7-871a55f67519",
   "metadata": {},
   "outputs": [
    {
     "data": {
      "text/plain": [
       "3.3333333333333335"
      ]
     },
     "execution_count": 66,
     "metadata": {},
     "output_type": "execute_result"
    }
   ],
   "source": [
    "200/60"
   ]
  },
  {
   "cell_type": "markdown",
   "id": "f357bd87-5137-46ca-b491-179eebda7c10",
   "metadata": {},
   "source": [
    "## Autor: Lina Santa."
   ]
  },
  {
   "cell_type": "code",
   "execution_count": null,
   "id": "ee8721ce-e33d-4f98-81be-6d4e2f7866a4",
   "metadata": {},
   "outputs": [],
   "source": []
  }
 ],
 "metadata": {
  "kernelspec": {
   "display_name": "Python 3 (ipykernel)",
   "language": "python",
   "name": "python3"
  },
  "language_info": {
   "codemirror_mode": {
    "name": "ipython",
    "version": 3
   },
   "file_extension": ".py",
   "mimetype": "text/x-python",
   "name": "python",
   "nbconvert_exporter": "python",
   "pygments_lexer": "ipython3",
   "version": "3.12.4"
  }
 },
 "nbformat": 4,
 "nbformat_minor": 5
}
